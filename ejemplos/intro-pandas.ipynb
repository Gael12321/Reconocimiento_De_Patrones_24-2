{
  "cells": [
    {
      "cell_type": "markdown",
      "id": "2afa4105",
      "metadata": {
        "id": "2afa4105"
      },
      "source": [
        "<a href=\"https://colab.research.google.com/github/ml-unison/ml-unison.github.io/raw/main/ejemplos/intro-pandas.ipynb\" target=\"_parent\"><img src=\"https://colab.research.google.com/assets/colab-badge.svg\" alt=\"Open In Colab\"/></a>"
      ]
    },
    {
      "cell_type": "markdown",
      "id": "338eae7f-a37d-48d9-9e81-a1d1e8c0892c",
      "metadata": {
        "id": "338eae7f-a37d-48d9-9e81-a1d1e8c0892c"
      },
      "source": [
        "# Introducción a `pandas`\n",
        "\n",
        "### Curso Reconocimiento de Patrones, 2024-2\n",
        "\n",
        "**Julio Waissman Vilanova**\n"
      ]
    },
    {
      "cell_type": "code",
      "execution_count": null,
      "id": "38110519-1749-445e-bcb0-0a9483baffed",
      "metadata": {
        "id": "38110519-1749-445e-bcb0-0a9483baffed"
      },
      "outputs": [],
      "source": [
        "import pandas as pd"
      ]
    },
    {
      "cell_type": "markdown",
      "id": "0a6b9c46-c671-4d3b-8016-4b051ea4a29a",
      "metadata": {
        "id": "0a6b9c46-c671-4d3b-8016-4b051ea4a29a"
      },
      "source": [
        "## Creando un dataframe\n",
        "\n",
        "Pandas es un marco de desarrollo para la manipulación de datos, creado originalmente para ofrecer en python las facilidades de manejo de tablas de datos que tiene en forma nativa el lenguaje `R`.\n",
        "\n",
        "Pandas se basa en dos clases: `Serie` y `DataFrame`, ambas heredadas de la clase `ndarray`de numpy. Un objeto de la clase `Serie`(que llamaremos serie) es un arreglo de datos de un solo tipo, los cuales se encuentran indexados. Un objeto tipo `DataFrame`es una colección de series, en la que se comparte el índice (o renglón), pero cada serie (o columna) tiene su propio tipo. En la figura se muestra como es un DataFrame\n",
        "\n",
        "![](https://pandas.pydata.org/docs/_images/01_table_dataframe.svg)\n",
        "\n",
        "Vamos a crear un `Dataframe`:"
      ]
    },
    {
      "cell_type": "code",
      "execution_count": null,
      "id": "10f1400c-94e9-4b0a-a764-687cea1c2b5b",
      "metadata": {
        "id": "10f1400c-94e9-4b0a-a764-687cea1c2b5b"
      },
      "outputs": [],
      "source": [
        "df = pd.DataFrame(\n",
        "    {\n",
        "        \"Name\": [\n",
        "            \"Braund, Mr. Owen Harris\",\n",
        "            \"Allen, Mr. William Henry\",\n",
        "            \"Bonnell, Miss. Elizabeth\",\n",
        "        ],\n",
        "        \"Age\": [22, 35, 58],\n",
        "        \"Sex\": [\"male\", \"male\", \"female\"]\n",
        "    }\n",
        ")"
      ]
    },
    {
      "cell_type": "markdown",
      "id": "7554a1e9-eaa7-4708-b1a1-7e3256054389",
      "metadata": {
        "id": "7554a1e9-eaa7-4708-b1a1-7e3256054389"
      },
      "source": [
        "Y vamos a ver los primeros 2 elementos y los últimos 3"
      ]
    },
    {
      "cell_type": "code",
      "execution_count": null,
      "id": "8d7c357d-7c9a-4fbb-b5e2-af73e10578f8",
      "metadata": {
        "id": "8d7c357d-7c9a-4fbb-b5e2-af73e10578f8"
      },
      "outputs": [],
      "source": [
        "display(df.head(2))"
      ]
    },
    {
      "cell_type": "code",
      "execution_count": null,
      "id": "3ca2c4d0-bd71-4906-ab94-3daed3a50106",
      "metadata": {
        "id": "3ca2c4d0-bd71-4906-ab94-3daed3a50106"
      },
      "outputs": [],
      "source": [
        "display(df.tail(2))"
      ]
    },
    {
      "cell_type": "markdown",
      "id": "5d5388f0-6310-4d82-897a-abf03deb8232",
      "metadata": {
        "id": "5d5388f0-6310-4d82-897a-abf03deb8232"
      },
      "source": [
        "Ahora vamos a investigar la información de la tabla y cada una de las series que la componen:"
      ]
    },
    {
      "cell_type": "code",
      "execution_count": null,
      "id": "970649e0-5ab4-4825-a876-a2b502650727",
      "metadata": {
        "id": "970649e0-5ab4-4825-a876-a2b502650727"
      },
      "outputs": [],
      "source": [
        "df['Name']"
      ]
    },
    {
      "cell_type": "code",
      "execution_count": null,
      "id": "90a1dffa-cda0-41ae-b0c8-b4682cfc32a8",
      "metadata": {
        "id": "90a1dffa-cda0-41ae-b0c8-b4682cfc32a8"
      },
      "outputs": [],
      "source": [
        "df['Age']"
      ]
    },
    {
      "cell_type": "code",
      "execution_count": null,
      "id": "4e1be519-2a74-45c8-a30e-bc15652eb631",
      "metadata": {
        "id": "4e1be519-2a74-45c8-a30e-bc15652eb631"
      },
      "outputs": [],
      "source": [
        "df.index"
      ]
    },
    {
      "cell_type": "code",
      "execution_count": null,
      "id": "286c0478-237f-4622-8e33-c581c8965a3a",
      "metadata": {
        "id": "286c0478-237f-4622-8e33-c581c8965a3a"
      },
      "outputs": [],
      "source": [
        "df.index = ['tata', 'tete', 'toto']\n",
        "df"
      ]
    },
    {
      "cell_type": "code",
      "execution_count": null,
      "id": "f4dd9b58-f97b-4281-9bc1-a6682d3ffa7d",
      "metadata": {
        "id": "f4dd9b58-f97b-4281-9bc1-a6682d3ffa7d"
      },
      "outputs": [],
      "source": [
        "df.dtypes"
      ]
    },
    {
      "cell_type": "code",
      "execution_count": null,
      "id": "9ae56324-8492-4c61-96aa-b2a536deb423",
      "metadata": {
        "id": "9ae56324-8492-4c61-96aa-b2a536deb423"
      },
      "outputs": [],
      "source": [
        "df.describe(include='all')"
      ]
    },
    {
      "cell_type": "code",
      "execution_count": null,
      "id": "eec44216-5e28-46f2-ae38-8455b8bcaeec",
      "metadata": {
        "id": "eec44216-5e28-46f2-ae38-8455b8bcaeec"
      },
      "outputs": [],
      "source": [
        "df.describe(include=object)"
      ]
    },
    {
      "cell_type": "markdown",
      "id": "6b23896d-8c10-417c-8a1f-c1dc7fd314d3",
      "metadata": {
        "id": "6b23896d-8c10-417c-8a1f-c1dc7fd314d3"
      },
      "source": [
        "## Leyendo un dataframe\n",
        "\n",
        "En pandas, es posible leer y escribir los dataframes en diferentes formatos. Para esto en pandas hay una serie de funciones `read_*` y `to_*` dependiendo el formato en que estén los datos o en que queramos leerlos.\n",
        "\n",
        "Todos los formatos tienen sus cositas y es prudente leer con calma la documentación (inclusive si se trata de abrir un archivo `csv`y es muy grande o está guardado en una codificación extraña o antigua).\n",
        "\n",
        "En la figura vemos algunos de los formatos de lectura y escritura existentes.\n",
        "\n",
        "![](https://pandas.pydata.org/docs/_images/02_io_readwrite.svg)\n",
        "\n",
        "En pandas, por ejemplo es posible abrir un archivo local, remoto o inclusive comprimido, sin necesidad de pasar por otros pasos. Esto hace que sea fácil utilizar datos en colab (datos públicos) leyendolos de un repositorio de github.\n",
        "\n",
        "Vamos pues a leer los sobadisimos e interesantes datos del titanic:"
      ]
    },
    {
      "cell_type": "code",
      "execution_count": null,
      "id": "ba232695-544e-47c8-b645-e274c80c20f0",
      "metadata": {
        "id": "ba232695-544e-47c8-b645-e274c80c20f0"
      },
      "outputs": [],
      "source": [
        "%pwd"
      ]
    },
    {
      "cell_type": "code",
      "execution_count": null,
      "id": "d55f77df-f8ca-45e9-a67b-3fea4b158e03",
      "metadata": {
        "id": "d55f77df-f8ca-45e9-a67b-3fea4b158e03"
      },
      "outputs": [],
      "source": [
        "csv_titanic_url = \"https://raw.githubusercontent.com/pandas-dev/pandas/master/doc/data/titanic.csv\"\n",
        "local_titanic_filename = \"datos/titanic.csv\"\n",
        "\n",
        "df_titanic = pd.read_csv(csv_titanic_url, engine='python')\n",
        "df_titanic.head(5)"
      ]
    },
    {
      "cell_type": "markdown",
      "id": "ac1dfeb3-e099-4edb-bbf0-66a205eb760c",
      "metadata": {
        "id": "ac1dfeb3-e099-4edb-bbf0-66a205eb760c"
      },
      "source": [
        "Y por buena costumbre vamos a ver de que se tratan estos datos"
      ]
    },
    {
      "cell_type": "code",
      "execution_count": null,
      "id": "3c70ef22-43d1-4fd9-aba2-650e815ed17b",
      "metadata": {
        "id": "3c70ef22-43d1-4fd9-aba2-650e815ed17b"
      },
      "outputs": [],
      "source": [
        "df_titanic.info()"
      ]
    },
    {
      "cell_type": "code",
      "execution_count": null,
      "id": "8e436c72-bf4f-4360-85db-ea0331254121",
      "metadata": {
        "id": "8e436c72-bf4f-4360-85db-ea0331254121"
      },
      "outputs": [],
      "source": [
        "df_titanic.describe()"
      ]
    },
    {
      "cell_type": "code",
      "execution_count": null,
      "id": "1168e032-2450-44e8-91dc-e2dae9e7f324",
      "metadata": {
        "id": "1168e032-2450-44e8-91dc-e2dae9e7f324"
      },
      "outputs": [],
      "source": [
        "df_titanic.describe(include=object)"
      ]
    },
    {
      "cell_type": "markdown",
      "id": "c69c3e61-7297-4662-9081-a761c0c56f08",
      "metadata": {
        "id": "c69c3e61-7297-4662-9081-a761c0c56f08"
      },
      "source": [
        "Y ahora vamos a guardar los datos en un archivo excel para mandarselos a alguien (recuerda que colab mantiene los archivo en el entorno virtual, pero si no los guardas despues, se pierden)."
      ]
    },
    {
      "cell_type": "code",
      "execution_count": null,
      "id": "8f34345f-9dcd-4265-8c18-08122b0ae665",
      "metadata": {
        "id": "8f34345f-9dcd-4265-8c18-08122b0ae665"
      },
      "outputs": [],
      "source": [
        "df_titanic.to_excel(\"datos/titanic.xlsx\", sheet_name=\"passengers\", index=False)"
      ]
    },
    {
      "cell_type": "markdown",
      "id": "b3d62c67-a546-475d-b817-9573856afcae",
      "metadata": {
        "id": "b3d62c67-a546-475d-b817-9573856afcae"
      },
      "source": [
        "## Seleccionando partes de un dataframe\n",
        "\n",
        "### Seleccionando columnas\n",
        "\n",
        "Seleccionar columnas es muy fácil, solo hay que tener presente que si se selecciona una sola columna, lo que se obtiene es una serie, mientras que si se selecciona un subconjunto de columnas, lo que se obtiene es otro dataframe. Quedarse con un subconjunto de columnas se conoce tambien como seleccionar.\n",
        "\n",
        "![](https://pandas.pydata.org/docs/_images/03_subset_columns.svg)\n",
        "\n",
        "Vamos a ver que pasa:"
      ]
    },
    {
      "cell_type": "code",
      "execution_count": null,
      "id": "9582a6cd-ac16-4086-8795-694d756ec164",
      "metadata": {
        "id": "9582a6cd-ac16-4086-8795-694d756ec164"
      },
      "outputs": [],
      "source": [
        "edad = df_titanic['Age']\n",
        "edad_bis = df_titanic.Age   # Es lo mismo que el anterior\n",
        "\n",
        "df_edad = df_titanic[['Age']] # Un subconjunto de columnas con una sola columna\n",
        "\n",
        "df_ejemplo = df_titanic[['Age', 'Sex']]"
      ]
    },
    {
      "cell_type": "code",
      "execution_count": null,
      "id": "d9dcb73a-58d7-4903-aa15-09032bfb7437",
      "metadata": {
        "id": "d9dcb73a-58d7-4903-aa15-09032bfb7437"
      },
      "outputs": [],
      "source": [
        "edad"
      ]
    },
    {
      "cell_type": "code",
      "execution_count": null,
      "id": "fadb7729-a3d0-43dd-b77e-0083fdb3c295",
      "metadata": {
        "id": "fadb7729-a3d0-43dd-b77e-0083fdb3c295"
      },
      "outputs": [],
      "source": [
        "type(edad)"
      ]
    },
    {
      "cell_type": "code",
      "execution_count": null,
      "id": "0807fd2c",
      "metadata": {
        "id": "0807fd2c"
      },
      "outputs": [],
      "source": [
        "edad_bis"
      ]
    },
    {
      "cell_type": "code",
      "execution_count": null,
      "id": "891a923a-b6dd-4ee3-afe0-8520d45935bf",
      "metadata": {
        "id": "891a923a-b6dd-4ee3-afe0-8520d45935bf"
      },
      "outputs": [],
      "source": [
        "type(edad_bis)"
      ]
    },
    {
      "cell_type": "code",
      "execution_count": null,
      "id": "f96595c6-e606-4ce3-9805-2ea1b263f377",
      "metadata": {
        "id": "f96595c6-e606-4ce3-9805-2ea1b263f377"
      },
      "outputs": [],
      "source": [
        "df_edad"
      ]
    },
    {
      "cell_type": "code",
      "execution_count": null,
      "id": "b3a4868d-c283-471e-8915-13714a9d370c",
      "metadata": {
        "id": "b3a4868d-c283-471e-8915-13714a9d370c"
      },
      "outputs": [],
      "source": [
        "type(df_edad)"
      ]
    },
    {
      "cell_type": "code",
      "execution_count": null,
      "id": "c26d119b-31f7-4719-ad68-c1a9111b3e17",
      "metadata": {
        "id": "c26d119b-31f7-4719-ad68-c1a9111b3e17"
      },
      "outputs": [],
      "source": [
        "df_ejemplo"
      ]
    },
    {
      "cell_type": "markdown",
      "id": "f11ed9f7-5d76-4c62-9d08-0204ccca32f1",
      "metadata": {
        "id": "f11ed9f7-5d76-4c62-9d08-0204ccca32f1"
      },
      "source": [
        "### Seleccionando renglones\n",
        "\n",
        "Los renglones tienen mas detallitos a tomar en cuenta que las columnas.\n",
        "Este proceso se conoce en general como filtrado, y lo que se busca es seleccionar solo los\n",
        "renglones que cumplan ciertos criterios. Veamos.\n",
        "\n",
        "Vamos empezando por buscar un dataframe de la información de los pasageros con 35 años o mas:"
      ]
    },
    {
      "cell_type": "code",
      "execution_count": null,
      "id": "5f191f8f-9329-45bd-9539-db0678b8beb7",
      "metadata": {
        "id": "5f191f8f-9329-45bd-9539-db0678b8beb7"
      },
      "outputs": [],
      "source": [
        "df_35mas = df_titanic[df_titanic['Age'] > 35]   #equivalente df_titanic.Age[df_titanic.Age > 35]\n",
        "\n",
        "df_35mas.describe()"
      ]
    },
    {
      "cell_type": "markdown",
      "id": "7c5a9da2-746a-4cda-9a99-c4cfd0bc4f62",
      "metadata": {
        "id": "7c5a9da2-746a-4cda-9a99-c4cfd0bc4f62"
      },
      "source": [
        "Ahora vamos a buscar los pasajeros que se viajaron en 1ra o 2da clase:"
      ]
    },
    {
      "cell_type": "code",
      "execution_count": null,
      "id": "be3bcce3-f808-465e-93fa-4e6d2eb52eec",
      "metadata": {
        "id": "be3bcce3-f808-465e-93fa-4e6d2eb52eec"
      },
      "outputs": [],
      "source": [
        "df_12 = df_titanic[df_titanic.Pclass.isin([1, 2])]\n",
        "\n",
        "df_12.describe()"
      ]
    },
    {
      "cell_type": "markdown",
      "id": "b87e68b7-8469-478a-9799-c7e0891b0b57",
      "metadata": {
        "id": "b87e68b7-8469-478a-9799-c7e0891b0b57"
      },
      "source": [
        "Se pueden usar combinadores lógicos entre diferentes columnas, pero las condiciones debe estar\n",
        "clara con el uso de paréntesis y se deben utilizar `|` para la disyunción y `&` para la conjunción.\n",
        "\n",
        "Vamos a ver los pasajeros de más de 35 años y que viajen en 1ra o 2da:"
      ]
    },
    {
      "cell_type": "code",
      "execution_count": null,
      "id": "868c5958-989d-4504-966e-d9eef5a6cbcd",
      "metadata": {
        "id": "868c5958-989d-4504-966e-d9eef5a6cbcd"
      },
      "outputs": [],
      "source": [
        "df_titanic[(df_titanic.Age > 35) & (df_titanic.Pclass.isin([1, 2]))].describe()"
      ]
    },
    {
      "cell_type": "markdown",
      "id": "f8b724bc-ccbc-4d6b-8987-128123e3fbb0",
      "metadata": {
        "id": "f8b724bc-ccbc-4d6b-8987-128123e3fbb0"
      },
      "source": [
        "Por últomo vamos a ver los pasajeron que no registraron su edad:"
      ]
    },
    {
      "cell_type": "code",
      "execution_count": null,
      "id": "41a487db-9b75-4ff4-850b-5ca63079b202",
      "metadata": {
        "id": "41a487db-9b75-4ff4-850b-5ca63079b202"
      },
      "outputs": [],
      "source": [
        "df_sin_edad = df_titanic[df_titanic.Age.isna()]\n",
        "\n",
        "df_sin_edad"
      ]
    },
    {
      "cell_type": "markdown",
      "id": "8a17e845-e89c-4aa5-adeb-9ce8a313b6f9",
      "metadata": {
        "id": "8a17e845-e89c-4aa5-adeb-9ce8a313b6f9"
      },
      "source": [
        "### Seleccionando renglones y columnas\n",
        "\n",
        "![](https://pandas.pydata.org/docs/_images/03_subset_columns_rows.svg)\n",
        "\n",
        "Este paso es un poco extraño, ya que no se pueden seleccionar renglones y columnas directamente, sino que hay que usar los métodos `.loc`y `.iloc`. Vamos a ejemplificarlos.\n",
        "\n",
        "Supongamos que queremos los nombres de todos los mayores de 35 años, como serie y como dataframe. La manera de seleccionar y filtrar es la siguiente:"
      ]
    },
    {
      "cell_type": "code",
      "execution_count": null,
      "id": "1a353e18-1b66-4f02-a774-57844d6463d6",
      "metadata": {
        "id": "1a353e18-1b66-4f02-a774-57844d6463d6"
      },
      "outputs": [],
      "source": [
        "como_serie = df_titanic.loc[df_titanic.Age > 35, 'Name']  # Como serie de tiempo\n",
        "\n",
        "como_df = df_titanic.loc[df_titanic.Age > 35, ['Name']]  # Como dataframe"
      ]
    },
    {
      "cell_type": "code",
      "execution_count": null,
      "id": "47c91a45-3a30-4496-b200-2447c8e64f56",
      "metadata": {
        "id": "47c91a45-3a30-4496-b200-2447c8e64f56"
      },
      "outputs": [],
      "source": [
        "como_serie"
      ]
    },
    {
      "cell_type": "code",
      "execution_count": null,
      "id": "c7baaf23-6956-435c-b932-e9f9745d6b34",
      "metadata": {
        "id": "c7baaf23-6956-435c-b932-e9f9745d6b34"
      },
      "outputs": [],
      "source": [
        "como_df"
      ]
    },
    {
      "cell_type": "markdown",
      "id": "3777f2d9-7091-48b9-8d6c-2889b40b6c46",
      "metadata": {
        "id": "3777f2d9-7091-48b9-8d6c-2889b40b6c46"
      },
      "source": [
        "Si quieres no solo el nombre, pero tambien el género se puede obtener como:"
      ]
    },
    {
      "cell_type": "code",
      "execution_count": null,
      "id": "875b3a8c-bebc-41f7-ba55-f9a4452ca519",
      "metadata": {
        "id": "875b3a8c-bebc-41f7-ba55-f9a4452ca519"
      },
      "outputs": [],
      "source": [
        "df_nueva = df_titanic.loc[df_titanic.Age > 35, ['Name', 'Sex']]\n",
        "df_nueva"
      ]
    },
    {
      "cell_type": "markdown",
      "id": "97a57ac7-a498-47f1-800f-307bba10187f",
      "metadata": {
        "id": "97a57ac7-a498-47f1-800f-307bba10187f"
      },
      "source": [
        "Este tipo de indexación tambien puede servir para modificar valores, por ejemplo:"
      ]
    },
    {
      "cell_type": "code",
      "execution_count": null,
      "id": "98e8e9e0-af6d-4f7b-b87f-68acbfa36b80",
      "metadata": {
        "id": "98e8e9e0-af6d-4f7b-b87f-68acbfa36b80"
      },
      "outputs": [],
      "source": [
        "df_nueva.loc[df_nueva.Sex == 'female', 'Sex'] = 'mujer'\n",
        "df_nueva"
      ]
    },
    {
      "cell_type": "markdown",
      "id": "2ee5cb0c-2179-4de6-8b86-7b14f093f62d",
      "metadata": {
        "id": "2ee5cb0c-2179-4de6-8b86-7b14f093f62d"
      },
      "source": [
        "## Extrayendo estadísticas\n",
        "\n",
        "### Por columna\n",
        "\n",
        "Para encontrar estadísticas podemos seleccionar una columna y aplicarle cualquier oeración de agregación incluida en las operaciones en series. Por ejemplo, para encontrar la edad promedio de los pasajeros del titanic:"
      ]
    },
    {
      "cell_type": "code",
      "execution_count": null,
      "id": "713ab937-498d-4796-a5cc-d17f7d41b5e3",
      "metadata": {
        "id": "713ab937-498d-4796-a5cc-d17f7d41b5e3"
      },
      "outputs": [],
      "source": [
        "df_titanic['Age'].mean()"
      ]
    },
    {
      "cell_type": "markdown",
      "id": "5f4bfe00-5b61-4247-8f63-ca3ceb020283",
      "metadata": {
        "id": "5f4bfe00-5b61-4247-8f63-ca3ceb020283"
      },
      "source": [
        "Las operaciones de agregación tambien se pueden aplicar en dataframes, aplicandose en cada serie en forma independiente. Por ejemplo:"
      ]
    },
    {
      "cell_type": "code",
      "execution_count": null,
      "id": "12a66086-d85b-4700-942d-a674d5688ca1",
      "metadata": {
        "id": "12a66086-d85b-4700-942d-a674d5688ca1"
      },
      "outputs": [],
      "source": [
        "df_titanic[['Age', 'Fare']].median()"
      ]
    },
    {
      "cell_type": "markdown",
      "id": "e3e36ab7-40aa-4fb3-ac36-5d7498cda9a5",
      "metadata": {
        "id": "e3e36ab7-40aa-4fb3-ac36-5d7498cda9a5"
      },
      "source": [
        "Y si se quiere aplicar una serie de agregaciones diferentes a varias variables, lo mejor es usar el método `.agg`como se muestra a continuación:"
      ]
    },
    {
      "cell_type": "code",
      "execution_count": null,
      "id": "5606b2c4-627c-40ca-8de9-2bdf56c5dea1",
      "metadata": {
        "id": "5606b2c4-627c-40ca-8de9-2bdf56c5dea1"
      },
      "outputs": [],
      "source": [
        "df_titanic.agg(\n",
        "    {\n",
        "        \"Age\": [\"min\", \"max\", \"median\", \"mad\"],\n",
        "        \"Fare\": [\"min\", \"max\", \"mean\", \"std\"],\n",
        "    }\n",
        ")"
      ]
    },
    {
      "cell_type": "markdown",
      "id": "aedf01c5-8cef-438c-ab68-07ab45cd98da",
      "metadata": {
        "id": "aedf01c5-8cef-438c-ab68-07ab45cd98da"
      },
      "source": [
        "### Regrupando por variables\n",
        "\n",
        "Para esto se usa el método `.group` que si bien de inicio parece bastante obvio, luego se le ven algunos detallitos.\n",
        "\n",
        "Por ejemplo, supongamos que quiero saber la edad pronedio de los pasajeros por género. Hay dos maneras de hacerlo. La primera es seleccionar `Age` y `Sex`, regrupar por `Sex`y sacarle la media a Àge`.\n",
        "\n",
        "![](https://pandas.pydata.org/docs/_images/06_groupby.svg)\n",
        "\n",
        "La otra es regrupar por `Sex`, luego seleccionar `Age`, y aplicarle la media.\n",
        "\n",
        "![](https://pandas.pydata.org/docs/_images/06_groupby_select_detail.svg)\n",
        "\n",
        "Vamos a ver que sale en cada caso:"
      ]
    },
    {
      "cell_type": "code",
      "execution_count": null,
      "id": "82432c32-ef0a-41e6-b71f-2d12f5ad4558",
      "metadata": {
        "id": "82432c32-ef0a-41e6-b71f-2d12f5ad4558"
      },
      "outputs": [],
      "source": [
        "df_titanic[['Age', 'Sex']].groupby('Sex').mean()"
      ]
    },
    {
      "cell_type": "code",
      "execution_count": null,
      "id": "8c0cbd22-d5be-469d-88a7-b3be8477e444",
      "metadata": {
        "id": "8c0cbd22-d5be-469d-88a7-b3be8477e444"
      },
      "outputs": [],
      "source": [
        "df_titanic.groupby('Sex')[['Age']].mean()"
      ]
    },
    {
      "cell_type": "markdown",
      "id": "8c69f41e-908f-4b41-8315-6c645497095f",
      "metadata": {
        "id": "8c69f41e-908f-4b41-8315-6c645497095f"
      },
      "source": [
        "Se pueden hacer regrupaciones en mútiples niveles. Por ejemplo si queremos saber la edad promedio, por género y por clase en la que viajaban, se puede regrupar en dos variables:"
      ]
    },
    {
      "cell_type": "code",
      "execution_count": null,
      "id": "8a664400-e20b-4de5-84bd-220ef64bb53c",
      "metadata": {
        "id": "8a664400-e20b-4de5-84bd-220ef64bb53c"
      },
      "outputs": [],
      "source": [
        "df_titanic.groupby([\"Sex\", \"Pclass\"])[[\"Age\"]].mean()"
      ]
    },
    {
      "cell_type": "markdown",
      "id": "5c2f35cf",
      "metadata": {
        "id": "5c2f35cf"
      },
      "source": [
        "## Datos numéricos\n",
        "\n",
        "Para ejemplificar el uso de columnas numéricas, horas y fechas vamos a utilizar un conjunto de datos que puso generosamente a nuestra disposición [Hector Alberto Gutierrez Ibarra](hector.gutierrez@cenace.gob.mx) de la gerencia noroeste del *Centro Nacional de Control de Energía (CENACE)*.\n",
        "\n",
        "Vamos primero pegandole un ojo a los datos:"
      ]
    },
    {
      "cell_type": "code",
      "execution_count": null,
      "id": "b585f3d8",
      "metadata": {
        "id": "b585f3d8"
      },
      "outputs": [],
      "source": [
        "path_datos = \"https://github.com/juliowaissman/curso-python-cd/raw/main/datos/caso_zc_hmo.csv.zip\"\n",
        "df = pd.read_csv(path_datos)\n",
        "print(df.info())\n",
        "df"
      ]
    },
    {
      "cell_type": "markdown",
      "id": "cd3c2b1c",
      "metadata": {
        "id": "cd3c2b1c"
      },
      "source": [
        "Lo primero que tenemos que hacer es convertir la variable `Date`en un formato de fechas. En este caso es muy fácil porque la tabla está muy bien formateada, pero suele no ser tan sencillo."
      ]
    },
    {
      "cell_type": "markdown",
      "id": "5a789874",
      "metadata": {
        "id": "5a789874"
      },
      "source": [
        "df['Date'] = pd.to_datetime(\n",
        "    df.Date,\n",
        "    format=\"%d/%m/%Y %H:%M\"\n",
        ")\n",
        "print(df.info())\n",
        "df"
      ]
    },
    {
      "cell_type": "markdown",
      "id": "52f82fd1",
      "metadata": {
        "id": "52f82fd1"
      },
      "source": [
        "¿Cuantos días tenemos en esta base? ¿Cual es el primer día y el último?"
      ]
    },
    {
      "cell_type": "code",
      "execution_count": null,
      "id": "7a11904d",
      "metadata": {
        "id": "7a11904d"
      },
      "outputs": [],
      "source": [
        "print(f\"Inicia el {df.Date.min()} y termina el {df.Date.max()}\")\n",
        "print(f\"Con una duración de {df.Date.max() - df.Date.min()}\")"
      ]
    },
    {
      "cell_type": "markdown",
      "id": "74362883",
      "metadata": {
        "id": "74362883"
      },
      "source": [
        "Hay que tener cuidado porque hay dos tipos fundamentales de formatos de tiempo, y suelen no mesclarse bien en algunas operaciones."
      ]
    },
    {
      "cell_type": "code",
      "execution_count": null,
      "id": "42ddddea",
      "metadata": {
        "id": "42ddddea"
      },
      "outputs": [],
      "source": [
        "type(df.Date.min()), type(df.Date.max() - df.Date.min())"
      ]
    },
    {
      "cell_type": "markdown",
      "id": "aa9aec86",
      "metadata": {
        "id": "aa9aec86"
      },
      "source": [
        "Para facilitar el uso de pandas, vamos a pasar la fecha como el indice del dataframe"
      ]
    },
    {
      "cell_type": "code",
      "execution_count": null,
      "id": "7ca00483",
      "metadata": {
        "id": "7ca00483"
      },
      "outputs": [],
      "source": [
        "df.set_index('Date', inplace=True)\n",
        "df"
      ]
    },
    {
      "cell_type": "markdown",
      "id": "6761668c",
      "metadata": {
        "id": "6761668c"
      },
      "source": [
        "## Gráficas rápidas y furiosas desde pandas\n",
        "\n",
        "Pandas trae incluidas facilidades para la graficación con el fin de hacer análisis rápidos de nuestras variables, así que vamos aprovechando y haciendo una inspección visual"
      ]
    },
    {
      "cell_type": "code",
      "execution_count": null,
      "id": "8c3491cf",
      "metadata": {
        "id": "8c3491cf"
      },
      "outputs": [],
      "source": [
        "ax = df.Demand.plot()"
      ]
    },
    {
      "cell_type": "code",
      "execution_count": null,
      "id": "d521100d",
      "metadata": {
        "id": "d521100d"
      },
      "outputs": [],
      "source": [
        "ax = df.plot(figsize=(12, 20), subplots=True)"
      ]
    },
    {
      "cell_type": "code",
      "execution_count": null,
      "id": "c6468b97",
      "metadata": {
        "id": "c6468b97"
      },
      "outputs": [],
      "source": [
        "ax = df.Temperature.plot.box()"
      ]
    },
    {
      "cell_type": "code",
      "execution_count": null,
      "id": "1d7fbb4f",
      "metadata": {
        "id": "1d7fbb4f"
      },
      "outputs": [],
      "source": [
        "ax = df.plot.scatter(\n",
        "    x='Humidity',\n",
        "    y='Temperature',\n",
        "    c='Demand',\n",
        "    s =40,\n",
        "    figsize=(12,8)\n",
        ")"
      ]
    },
    {
      "cell_type": "markdown",
      "id": "8044d1ef",
      "metadata": {
        "id": "8044d1ef"
      },
      "source": [
        "## Generando nuevas variables a partir de las variables conocidas\n",
        "\n",
        "Generar nuevas variables es relativamente simple, pero hay algunas cosas que son diferentes con numpy y por las cuales hay que tener cuidado."
      ]
    },
    {
      "cell_type": "markdown",
      "id": "3601e71c",
      "metadata": {
        "id": "3601e71c"
      },
      "source": [
        "df['farenheit'] = (df.Temperature * 9/5) + 32\n",
        "\n",
        "df['refri'] = 0\n",
        "df['refri'] = df.refri.where(df.Temperature < 30, 1)\n",
        "\n",
        "df['DiaSemana'] = df.index.weekday"
      ]
    },
    {
      "cell_type": "markdown",
      "id": "ebe86b34",
      "metadata": {
        "id": "ebe86b34"
      },
      "source": [
        "df.rename(\n",
        "    columns={\n",
        "        'Demand': 'Demanda',\n",
        "        'Temperature': 'Temperatura',\n",
        "        'PrecipIntensity': 'Precipitación',\n",
        "        'Humidity': 'Humedad',\n",
        "        'WinSpeed': 'VelocidadViento',\n",
        "    },\n",
        "    inplace=True\n",
        ")\n",
        "df"
      ]
    },
    {
      "cell_type": "markdown",
      "id": "1533b87b",
      "metadata": {
        "id": "1533b87b"
      },
      "source": [
        "## Analizando con regrupamientos\n",
        "\n",
        "En particular, es interesante poder hacer algun análisis exploratorio utilizando las facilidades que da el uso del manejo de la información temporal que ofrece pandas. En espacial cuando se combina con `groupby` y diferentes funciones de agregación.\n",
        "\n",
        "Vamos a empezar por ver la demanda promedio por día de la semana:"
      ]
    },
    {
      "cell_type": "code",
      "execution_count": null,
      "id": "0571af87",
      "metadata": {
        "id": "0571af87"
      },
      "outputs": [],
      "source": [
        "ax = df.groupby(df.index.month)[['Demanda']].boxplot(subplots=False, rot=90)"
      ]
    },
    {
      "cell_type": "code",
      "execution_count": null,
      "id": "6d7c05aa",
      "metadata": {
        "id": "6d7c05aa"
      },
      "outputs": [],
      "source": [
        "df.boxplot(column=['Demanda'], by=df.index.month)"
      ]
    },
    {
      "cell_type": "code",
      "execution_count": null,
      "id": "2f97f77b",
      "metadata": {
        "id": "2f97f77b"
      },
      "outputs": [],
      "source": [
        "df_semana = df.groupby('DiaSemana').agg(\n",
        "    {\n",
        "        'Demanda': ['min', 'max', 'mean', 'median', 'std'],\n",
        "        'Precipitación': ['min', 'max']\n",
        "    }\n",
        ")\n",
        "df_semana"
      ]
    },
    {
      "cell_type": "markdown",
      "id": "83f2b3cd",
      "metadata": {
        "id": "83f2b3cd"
      },
      "source": [
        "Ahora vamos a ver que pasa en forma mensual"
      ]
    },
    {
      "cell_type": "code",
      "execution_count": null,
      "id": "30310f4e",
      "metadata": {
        "id": "30310f4e"
      },
      "outputs": [],
      "source": [
        "ax = (\n",
        "    df[['Demanda']]\n",
        "    .groupby(df.index.month)\n",
        "    .boxplot(subplots=False, rot=90, figsize=(12, 7))\n",
        ")"
      ]
    },
    {
      "cell_type": "code",
      "execution_count": null,
      "id": "54a93812",
      "metadata": {
        "vscode": {
          "languageId": "plaintext"
        },
        "id": "54a93812"
      },
      "outputs": [],
      "source": [
        "ax = (\n",
        "    df[['Temperatura']]\n",
        "    .groupby(df.index.month)\n",
        "    .boxplot(\n",
        "        subplots=False,\n",
        "        rot=90,\n",
        "        figsize=(12, 7)\n",
        "    )\n",
        ")"
      ]
    },
    {
      "cell_type": "markdown",
      "id": "44e8a914",
      "metadata": {
        "id": "44e8a914"
      },
      "source": [
        "O inclusive por hora del día"
      ]
    },
    {
      "cell_type": "code",
      "execution_count": null,
      "id": "9a69462f",
      "metadata": {
        "vscode": {
          "languageId": "plaintext"
        },
        "id": "9a69462f"
      },
      "outputs": [],
      "source": [
        "ax = (\n",
        "    df[['Demanda']]\n",
        "    .groupby(df.index.hour)\n",
        "    .boxplot(subplots=False, rot=90, figsize=(12, 7)\n",
        ")"
      ]
    },
    {
      "cell_type": "code",
      "execution_count": null,
      "id": "cf6f87fb",
      "metadata": {
        "vscode": {
          "languageId": "plaintext"
        },
        "id": "cf6f87fb"
      },
      "outputs": [],
      "source": [
        "df_hora = (\n",
        "    df[['Demanda', 'Temperatura']]\n",
        "    .groupby([df.index.hour, df.index.month_name()])\n",
        "    .mean()\n",
        "    .unstack()\n",
        ")\n",
        "df_hora"
      ]
    },
    {
      "cell_type": "code",
      "execution_count": null,
      "id": "702d4e32",
      "metadata": {
        "vscode": {
          "languageId": "plaintext"
        },
        "id": "702d4e32"
      },
      "outputs": [],
      "source": [
        "ax = df_hora.Demanda.plot(\n",
        "    style='o',\n",
        "    figsize=(15,7),\n",
        "    title='Demanda por hora y por mes',\n",
        "    xlabel='Hora',\n",
        "    ylabel='Demanda'\n",
        ")"
      ]
    },
    {
      "cell_type": "code",
      "execution_count": null,
      "id": "c5dd68bb",
      "metadata": {
        "vscode": {
          "languageId": "plaintext"
        },
        "id": "c5dd68bb"
      },
      "outputs": [],
      "source": [
        "ax = df_hora.Temperatura.plot(\n",
        "    style='o',\n",
        "    figsize=(15,7))"
      ]
    },
    {
      "cell_type": "markdown",
      "id": "9b54c3d2",
      "metadata": {
        "id": "9b54c3d2"
      },
      "source": [
        "## Generando nuevas variables a partir de las variables conocidas\n",
        "\n",
        "Generar nuevas variables es relativamente simple, pero hay algunas cosas que son diferentes con numpy y por las cuales hay que tener cuidado."
      ]
    },
    {
      "cell_type": "markdown",
      "id": "45a34a6a-ae8a-4b2c-825e-95d5e96e61f6",
      "metadata": {
        "id": "45a34a6a-ae8a-4b2c-825e-95d5e96e61f6"
      },
      "source": [
        "### Vamos a practicar\n",
        "\n",
        "Para esta practica vamos a usar un conjunto de datos de la revista *wine magazine*,\n",
        "donde revisan una cantidad bastante sorprendente de vinos.\n",
        "\n",
        "Una descripción de la base de datos la encuentras [aquí](https://www.kaggle.com/zynicide/wine-reviews).\n",
        "Para no tener que descargar los datos a mano, se anexa la dirección `url` de donde se pueden descargar.\n",
        "\n",
        "Es importante notr que la primer columna del archivo `csv` es el índice (usar `index_col=0` cuando se descargue el archivo con `pd.read_csv`).\n",
        "\n",
        "Una vez descargado, usar pandas para las siguientes tareas:\n",
        "\n",
        "1. ¿Cuantas variables tiene el dataframe? ¿Qué variables tienen valores perdidos? ¿Qué variables son numéricas? ¿Qué variables son cualitativas?\n",
        "2. Hacer un dataframe con únicamente vinos europeos.\n",
        "3. ¿Cuál es el menor, el mayor y el precio promedio de la botella por país? ¿De que país es la botella de menor precio?\n",
        "4. ¿Cuantos vinos hay con *aroma a fresa* entre otras consideraciones snobs que vienen en la descripción?\n",
        "5. ¿Cuantas designaciones diferentes hay? ¿Cuál es la más repetida? ¿Cuantas veces se repite?\n",
        "6. Hacer un dataframe con la variedad, el país y el precio para vinos con un costo menor a los $20 dolares.\n",
        "7. ¿Cuantos vinos diferentes de la variedad *Pinot Noir* hay por cada país?\n"
      ]
    },
    {
      "cell_type": "code",
      "execution_count": 4,
      "id": "494f6524-c998-4621-bb39-2e87893af244",
      "metadata": {
        "id": "494f6524-c998-4621-bb39-2e87893af244"
      },
      "outputs": [],
      "source": [
        "%pwd\n",
        "winmag_url = 'https://gist.githubusercontent.com/clairehq/79acab35be50eaf1c383948ed3fd1129/raw/407a02139ae1e134992b90b4b2b8c329b3d73a6a/winemag-data-130k-v2.csv'\n",
        "df_wine_reviews = pd.read_csv(winmag_url,engine='python')\n"
      ]
    },
    {
      "cell_type": "code",
      "execution_count": 47,
      "id": "6a6db7cb-cf1a-466d-bad3-9231609ecf2b",
      "metadata": {
        "colab": {
          "base_uri": "https://localhost:8080/"
        },
        "id": "6a6db7cb-cf1a-466d-bad3-9231609ecf2b",
        "outputId": "2ee0a387-b2b1-45e4-99d7-63d0b1f42e0d"
      },
      "outputs": [
        {
          "output_type": "stream",
          "name": "stdout",
          "text": [
            "El dataframe tiene 14 variables\n",
            "Las Variables con valores perdidos son:  ['country', 'designation', 'price', 'province', 'region_1', 'region_2', 'taster_name', 'taster_twitter_handle']\n",
            "Las variables con valores numericos son: ['Unnamed: 0', 'points', 'price']\n",
            "Las variables con valores numericos son: ['country', 'description', 'designation', 'province', 'region_1', 'region_2', 'taster_name', 'taster_twitter_handle', 'title', 'variety', 'winery']\n"
          ]
        }
      ],
      "source": [
        "# ¿Cuantas variables tiene el dataframe?\n",
        "print(\"El dataframe tiene\",len(df_wine_reviews.columns), \"variables\")\n",
        "# ¿Qué variables tienen valores perdidos?\n",
        "print(\"Las Variables con valores perdidos son: \",df_wine_reviews.columns[df_wine_reviews.isnull().any()].tolist())\n",
        "# ¿Qué variables son numéricas?\n",
        "print(\"Las variables con valores numericos son:\", df_wine_reviews.select_dtypes(include='number').columns.tolist())\n",
        "# ¿Qué variables son cualitativas?\n",
        "print(\"Las variables con valores numericos son:\", df_wine_reviews.select_dtypes(include=object).columns.tolist())\n"
      ]
    },
    {
      "cell_type": "code",
      "execution_count": null,
      "id": "e76c10d7-5a10-45dc-a11f-c414043ad6b8",
      "metadata": {
        "id": "e76c10d7-5a10-45dc-a11f-c414043ad6b8"
      },
      "outputs": [],
      "source": [
        "# Hacer un dataframe con únicamente vinos europeos.\n",
        "European_Country = ['Spain', 'France', 'Italy', 'Germany', 'Portugal']\n",
        "Df_european_wine = df_wine_reviews[df_wine_reviews.country.isin(European_Country)]\n",
        "Df_european_wine"
      ]
    },
    {
      "cell_type": "code",
      "execution_count": 124,
      "id": "da4b68b2-42ba-4f62-b937-8bc6214c12cc",
      "metadata": {
        "colab": {
          "base_uri": "https://localhost:8080/"
        },
        "id": "da4b68b2-42ba-4f62-b937-8bc6214c12cc",
        "outputId": "529e0457-b797-4725-91f0-7c6db7f6f338"
      },
      "outputs": [
        {
          "output_type": "stream",
          "name": "stdout",
          "text": [
            "                         min     max       mean\n",
            "country                                        \n",
            "Argentina                4.0   230.0  23.604663\n",
            "Armenia                 14.0    14.0  14.000000\n",
            "Australia                6.0   850.0  35.786701\n",
            "Austria                  7.0   150.0  30.846774\n",
            "Bosnia and Herzegovina  13.0    13.0  13.000000\n",
            "Brazil                  10.0    45.0  23.185185\n",
            "Bulgaria                 8.0    55.0  14.014706\n",
            "Canada                  12.0   120.0  35.575472\n",
            "Chile                    5.0   400.0  21.021544\n",
            "Croatia                 13.0    65.0  25.000000\n",
            "Cyprus                  11.0    21.0  16.000000\n",
            "Czech Republic          15.0    45.0  23.666667\n",
            "England                 25.0    80.0  51.636364\n",
            "France                   5.0  2500.0  41.577949\n",
            "Georgia                  9.0    40.0  18.270270\n",
            "Germany                  5.0   775.0  40.592233\n",
            "Greece                   8.0    79.0  21.845188\n",
            "Hungary                 10.0   764.0  50.819672\n",
            "India                   10.0    20.0  13.500000\n",
            "Israel                   8.0   100.0  31.508065\n",
            "Italy                    5.0   595.0  39.739836\n",
            "Lebanon                 13.0    75.0  30.400000\n",
            "Luxembourg              16.0    30.0  23.000000\n",
            "Macedonia               15.0    20.0  15.833333\n",
            "Mexico                   8.0    58.0  26.677419\n",
            "Moldova                  8.0    42.0  17.900000\n",
            "Morocco                 14.0    40.0  21.090909\n",
            "New Zealand              8.0   120.0  26.662906\n",
            "Peru                    10.0    68.0  20.500000\n",
            "Portugal                 5.0  1000.0  25.647360\n",
            "Romania                  7.0   100.0  13.731343\n",
            "Serbia                  15.0    40.0  25.000000\n",
            "Slovakia                16.0    16.0  16.000000\n",
            "Slovenia                 7.0    60.0  24.000000\n",
            "South Africa             8.0   330.0  24.293478\n",
            "Spain                    4.0   770.0  27.875925\n",
            "Switzerland             30.0   160.0  97.000000\n",
            "Turkey                  15.0   120.0  25.767442\n",
            "US                       4.0   750.0  36.344889\n",
            "Ukraine                  6.0    10.0   9.200000\n",
            "Uruguay                 10.0   120.0  26.737705\n",
            "El pais con la botella de menor precio es : min    Argentina\n",
            "dtype: object\n"
          ]
        }
      ],
      "source": [
        "# ¿Cuál es el menor, el mayor y el precio promedio de la botella por país?\n",
        "Country_Price_Stats = df_wine_reviews.groupby('country')['price'].agg(['min', 'max', 'mean'])\n",
        "print (Country_Price_Stats)\n",
        "\n",
        "\n",
        "# ¿De que país es la botella de menor precio?\n",
        "Cheapest_Wine =  df_wine_reviews.groupby('country')['price'].agg(['min']).idxmin()\n",
        "print(\"El pais con la botella de menor precio es :\",Cheapest_Wine)"
      ]
    },
    {
      "cell_type": "code",
      "execution_count": 102,
      "id": "41b1e672-4df1-436f-b8df-a616c9297986",
      "metadata": {
        "colab": {
          "base_uri": "https://localhost:8080/"
        },
        "id": "41b1e672-4df1-436f-b8df-a616c9297986",
        "outputId": "33f44f8b-1ebb-4397-ab8b-d43470291639"
      },
      "outputs": [
        {
          "output_type": "stream",
          "name": "stdout",
          "text": [
            "La cantidad de vinos con descripciones snobs es: 44888\n"
          ]
        }
      ],
      "source": [
        "# ¿Cuantos vinos hay con *aroma a fresa* entre otras consideraciones snobs que vienen en la descripción?\n",
        "Snob_words = ['aromas','whiff','palate','flavors','strawberry']\n",
        "Snob_Wine_list = df_wine_reviews['description'].str.contains('|'.join(Snob_words)).sum()\n",
        "print(\"La cantidad de vinos con descripciones snobs es:\",Snob_Wine_list)"
      ]
    },
    {
      "cell_type": "code",
      "execution_count": 110,
      "id": "ad7c7b0a-9c9c-4975-865f-9d02c90c9002",
      "metadata": {
        "colab": {
          "base_uri": "https://localhost:8080/"
        },
        "id": "ad7c7b0a-9c9c-4975-865f-9d02c90c9002",
        "outputId": "4dfc1800-37c8-4eda-e28b-00c210bbc302"
      },
      "outputs": [
        {
          "output_type": "stream",
          "name": "stdout",
          "text": [
            "La cantidad de designaciones de vino es: 24187\n",
            "La designacion mas repetida es: Reserve\n",
            "La cantidad de veces que se repite es: 999\n"
          ]
        }
      ],
      "source": [
        "# ¿Cuantas designaciones diferentes hay? ¿Cuál es la más repetida? ¿Cuantas veces se repite?\n",
        "Wine_Designations = df_wine_reviews['designation'].value_counts()\n",
        "print(\"La cantidad de designaciones de vino es:\",len(Wine_Designations))\n",
        "print(\"La designacion mas repetida es:\",Wine_Designations.idxmax())\n",
        "print(\"La cantidad de veces que se repite es:\",Wine_Designations.max())"
      ]
    },
    {
      "cell_type": "code",
      "execution_count": 122,
      "id": "a2c0a822-b184-426e-b6b7-22b9dba74c7c",
      "metadata": {
        "colab": {
          "base_uri": "https://localhost:8080/",
          "height": 424
        },
        "id": "a2c0a822-b184-426e-b6b7-22b9dba74c7c",
        "outputId": "d51205ce-c3cd-4334-9b68-1cd22ed1c9b7"
      },
      "outputs": [
        {
          "output_type": "execute_result",
          "data": {
            "text/plain": [
              "         country             variety  price\n",
              "1       Portugal      Portuguese Red   15.0\n",
              "2             US          Pinot Gris   14.0\n",
              "3             US            Riesling   13.0\n",
              "5          Spain  Tempranillo-Merlot   15.0\n",
              "6          Italy            Frappato   16.0\n",
              "...          ...                 ...    ...\n",
              "65456         US  Cabernet Sauvignon   11.0\n",
              "65472         US          Chardonnay   19.0\n",
              "65481  Argentina              Malbec   11.0\n",
              "65482  Australia  Cabernet Sauvignon   17.0\n",
              "65498      Spain              Sherry   10.0\n",
              "\n",
              "[19842 rows x 3 columns]"
            ],
            "text/html": [
              "\n",
              "  <div id=\"df-e64178b1-20eb-477d-a979-d1358b87113e\" class=\"colab-df-container\">\n",
              "    <div>\n",
              "<style scoped>\n",
              "    .dataframe tbody tr th:only-of-type {\n",
              "        vertical-align: middle;\n",
              "    }\n",
              "\n",
              "    .dataframe tbody tr th {\n",
              "        vertical-align: top;\n",
              "    }\n",
              "\n",
              "    .dataframe thead th {\n",
              "        text-align: right;\n",
              "    }\n",
              "</style>\n",
              "<table border=\"1\" class=\"dataframe\">\n",
              "  <thead>\n",
              "    <tr style=\"text-align: right;\">\n",
              "      <th></th>\n",
              "      <th>country</th>\n",
              "      <th>variety</th>\n",
              "      <th>price</th>\n",
              "    </tr>\n",
              "  </thead>\n",
              "  <tbody>\n",
              "    <tr>\n",
              "      <th>1</th>\n",
              "      <td>Portugal</td>\n",
              "      <td>Portuguese Red</td>\n",
              "      <td>15.0</td>\n",
              "    </tr>\n",
              "    <tr>\n",
              "      <th>2</th>\n",
              "      <td>US</td>\n",
              "      <td>Pinot Gris</td>\n",
              "      <td>14.0</td>\n",
              "    </tr>\n",
              "    <tr>\n",
              "      <th>3</th>\n",
              "      <td>US</td>\n",
              "      <td>Riesling</td>\n",
              "      <td>13.0</td>\n",
              "    </tr>\n",
              "    <tr>\n",
              "      <th>5</th>\n",
              "      <td>Spain</td>\n",
              "      <td>Tempranillo-Merlot</td>\n",
              "      <td>15.0</td>\n",
              "    </tr>\n",
              "    <tr>\n",
              "      <th>6</th>\n",
              "      <td>Italy</td>\n",
              "      <td>Frappato</td>\n",
              "      <td>16.0</td>\n",
              "    </tr>\n",
              "    <tr>\n",
              "      <th>...</th>\n",
              "      <td>...</td>\n",
              "      <td>...</td>\n",
              "      <td>...</td>\n",
              "    </tr>\n",
              "    <tr>\n",
              "      <th>65456</th>\n",
              "      <td>US</td>\n",
              "      <td>Cabernet Sauvignon</td>\n",
              "      <td>11.0</td>\n",
              "    </tr>\n",
              "    <tr>\n",
              "      <th>65472</th>\n",
              "      <td>US</td>\n",
              "      <td>Chardonnay</td>\n",
              "      <td>19.0</td>\n",
              "    </tr>\n",
              "    <tr>\n",
              "      <th>65481</th>\n",
              "      <td>Argentina</td>\n",
              "      <td>Malbec</td>\n",
              "      <td>11.0</td>\n",
              "    </tr>\n",
              "    <tr>\n",
              "      <th>65482</th>\n",
              "      <td>Australia</td>\n",
              "      <td>Cabernet Sauvignon</td>\n",
              "      <td>17.0</td>\n",
              "    </tr>\n",
              "    <tr>\n",
              "      <th>65498</th>\n",
              "      <td>Spain</td>\n",
              "      <td>Sherry</td>\n",
              "      <td>10.0</td>\n",
              "    </tr>\n",
              "  </tbody>\n",
              "</table>\n",
              "<p>19842 rows × 3 columns</p>\n",
              "</div>\n",
              "    <div class=\"colab-df-buttons\">\n",
              "\n",
              "  <div class=\"colab-df-container\">\n",
              "    <button class=\"colab-df-convert\" onclick=\"convertToInteractive('df-e64178b1-20eb-477d-a979-d1358b87113e')\"\n",
              "            title=\"Convert this dataframe to an interactive table.\"\n",
              "            style=\"display:none;\">\n",
              "\n",
              "  <svg xmlns=\"http://www.w3.org/2000/svg\" height=\"24px\" viewBox=\"0 -960 960 960\">\n",
              "    <path d=\"M120-120v-720h720v720H120Zm60-500h600v-160H180v160Zm220 220h160v-160H400v160Zm0 220h160v-160H400v160ZM180-400h160v-160H180v160Zm440 0h160v-160H620v160ZM180-180h160v-160H180v160Zm440 0h160v-160H620v160Z\"/>\n",
              "  </svg>\n",
              "    </button>\n",
              "\n",
              "  <style>\n",
              "    .colab-df-container {\n",
              "      display:flex;\n",
              "      gap: 12px;\n",
              "    }\n",
              "\n",
              "    .colab-df-convert {\n",
              "      background-color: #E8F0FE;\n",
              "      border: none;\n",
              "      border-radius: 50%;\n",
              "      cursor: pointer;\n",
              "      display: none;\n",
              "      fill: #1967D2;\n",
              "      height: 32px;\n",
              "      padding: 0 0 0 0;\n",
              "      width: 32px;\n",
              "    }\n",
              "\n",
              "    .colab-df-convert:hover {\n",
              "      background-color: #E2EBFA;\n",
              "      box-shadow: 0px 1px 2px rgba(60, 64, 67, 0.3), 0px 1px 3px 1px rgba(60, 64, 67, 0.15);\n",
              "      fill: #174EA6;\n",
              "    }\n",
              "\n",
              "    .colab-df-buttons div {\n",
              "      margin-bottom: 4px;\n",
              "    }\n",
              "\n",
              "    [theme=dark] .colab-df-convert {\n",
              "      background-color: #3B4455;\n",
              "      fill: #D2E3FC;\n",
              "    }\n",
              "\n",
              "    [theme=dark] .colab-df-convert:hover {\n",
              "      background-color: #434B5C;\n",
              "      box-shadow: 0px 1px 3px 1px rgba(0, 0, 0, 0.15);\n",
              "      filter: drop-shadow(0px 1px 2px rgba(0, 0, 0, 0.3));\n",
              "      fill: #FFFFFF;\n",
              "    }\n",
              "  </style>\n",
              "\n",
              "    <script>\n",
              "      const buttonEl =\n",
              "        document.querySelector('#df-e64178b1-20eb-477d-a979-d1358b87113e button.colab-df-convert');\n",
              "      buttonEl.style.display =\n",
              "        google.colab.kernel.accessAllowed ? 'block' : 'none';\n",
              "\n",
              "      async function convertToInteractive(key) {\n",
              "        const element = document.querySelector('#df-e64178b1-20eb-477d-a979-d1358b87113e');\n",
              "        const dataTable =\n",
              "          await google.colab.kernel.invokeFunction('convertToInteractive',\n",
              "                                                    [key], {});\n",
              "        if (!dataTable) return;\n",
              "\n",
              "        const docLinkHtml = 'Like what you see? Visit the ' +\n",
              "          '<a target=\"_blank\" href=https://colab.research.google.com/notebooks/data_table.ipynb>data table notebook</a>'\n",
              "          + ' to learn more about interactive tables.';\n",
              "        element.innerHTML = '';\n",
              "        dataTable['output_type'] = 'display_data';\n",
              "        await google.colab.output.renderOutput(dataTable, element);\n",
              "        const docLink = document.createElement('div');\n",
              "        docLink.innerHTML = docLinkHtml;\n",
              "        element.appendChild(docLink);\n",
              "      }\n",
              "    </script>\n",
              "  </div>\n",
              "\n",
              "\n",
              "<div id=\"df-36f4271e-6bf6-438a-ad5a-043f013ad746\">\n",
              "  <button class=\"colab-df-quickchart\" onclick=\"quickchart('df-36f4271e-6bf6-438a-ad5a-043f013ad746')\"\n",
              "            title=\"Suggest charts\"\n",
              "            style=\"display:none;\">\n",
              "\n",
              "<svg xmlns=\"http://www.w3.org/2000/svg\" height=\"24px\"viewBox=\"0 0 24 24\"\n",
              "     width=\"24px\">\n",
              "    <g>\n",
              "        <path d=\"M19 3H5c-1.1 0-2 .9-2 2v14c0 1.1.9 2 2 2h14c1.1 0 2-.9 2-2V5c0-1.1-.9-2-2-2zM9 17H7v-7h2v7zm4 0h-2V7h2v10zm4 0h-2v-4h2v4z\"/>\n",
              "    </g>\n",
              "</svg>\n",
              "  </button>\n",
              "\n",
              "<style>\n",
              "  .colab-df-quickchart {\n",
              "      --bg-color: #E8F0FE;\n",
              "      --fill-color: #1967D2;\n",
              "      --hover-bg-color: #E2EBFA;\n",
              "      --hover-fill-color: #174EA6;\n",
              "      --disabled-fill-color: #AAA;\n",
              "      --disabled-bg-color: #DDD;\n",
              "  }\n",
              "\n",
              "  [theme=dark] .colab-df-quickchart {\n",
              "      --bg-color: #3B4455;\n",
              "      --fill-color: #D2E3FC;\n",
              "      --hover-bg-color: #434B5C;\n",
              "      --hover-fill-color: #FFFFFF;\n",
              "      --disabled-bg-color: #3B4455;\n",
              "      --disabled-fill-color: #666;\n",
              "  }\n",
              "\n",
              "  .colab-df-quickchart {\n",
              "    background-color: var(--bg-color);\n",
              "    border: none;\n",
              "    border-radius: 50%;\n",
              "    cursor: pointer;\n",
              "    display: none;\n",
              "    fill: var(--fill-color);\n",
              "    height: 32px;\n",
              "    padding: 0;\n",
              "    width: 32px;\n",
              "  }\n",
              "\n",
              "  .colab-df-quickchart:hover {\n",
              "    background-color: var(--hover-bg-color);\n",
              "    box-shadow: 0 1px 2px rgba(60, 64, 67, 0.3), 0 1px 3px 1px rgba(60, 64, 67, 0.15);\n",
              "    fill: var(--button-hover-fill-color);\n",
              "  }\n",
              "\n",
              "  .colab-df-quickchart-complete:disabled,\n",
              "  .colab-df-quickchart-complete:disabled:hover {\n",
              "    background-color: var(--disabled-bg-color);\n",
              "    fill: var(--disabled-fill-color);\n",
              "    box-shadow: none;\n",
              "  }\n",
              "\n",
              "  .colab-df-spinner {\n",
              "    border: 2px solid var(--fill-color);\n",
              "    border-color: transparent;\n",
              "    border-bottom-color: var(--fill-color);\n",
              "    animation:\n",
              "      spin 1s steps(1) infinite;\n",
              "  }\n",
              "\n",
              "  @keyframes spin {\n",
              "    0% {\n",
              "      border-color: transparent;\n",
              "      border-bottom-color: var(--fill-color);\n",
              "      border-left-color: var(--fill-color);\n",
              "    }\n",
              "    20% {\n",
              "      border-color: transparent;\n",
              "      border-left-color: var(--fill-color);\n",
              "      border-top-color: var(--fill-color);\n",
              "    }\n",
              "    30% {\n",
              "      border-color: transparent;\n",
              "      border-left-color: var(--fill-color);\n",
              "      border-top-color: var(--fill-color);\n",
              "      border-right-color: var(--fill-color);\n",
              "    }\n",
              "    40% {\n",
              "      border-color: transparent;\n",
              "      border-right-color: var(--fill-color);\n",
              "      border-top-color: var(--fill-color);\n",
              "    }\n",
              "    60% {\n",
              "      border-color: transparent;\n",
              "      border-right-color: var(--fill-color);\n",
              "    }\n",
              "    80% {\n",
              "      border-color: transparent;\n",
              "      border-right-color: var(--fill-color);\n",
              "      border-bottom-color: var(--fill-color);\n",
              "    }\n",
              "    90% {\n",
              "      border-color: transparent;\n",
              "      border-bottom-color: var(--fill-color);\n",
              "    }\n",
              "  }\n",
              "</style>\n",
              "\n",
              "  <script>\n",
              "    async function quickchart(key) {\n",
              "      const quickchartButtonEl =\n",
              "        document.querySelector('#' + key + ' button');\n",
              "      quickchartButtonEl.disabled = true;  // To prevent multiple clicks.\n",
              "      quickchartButtonEl.classList.add('colab-df-spinner');\n",
              "      try {\n",
              "        const charts = await google.colab.kernel.invokeFunction(\n",
              "            'suggestCharts', [key], {});\n",
              "      } catch (error) {\n",
              "        console.error('Error during call to suggestCharts:', error);\n",
              "      }\n",
              "      quickchartButtonEl.classList.remove('colab-df-spinner');\n",
              "      quickchartButtonEl.classList.add('colab-df-quickchart-complete');\n",
              "    }\n",
              "    (() => {\n",
              "      let quickchartButtonEl =\n",
              "        document.querySelector('#df-36f4271e-6bf6-438a-ad5a-043f013ad746 button');\n",
              "      quickchartButtonEl.style.display =\n",
              "        google.colab.kernel.accessAllowed ? 'block' : 'none';\n",
              "    })();\n",
              "  </script>\n",
              "</div>\n",
              "\n",
              "  <div id=\"id_fd7e3773-1ce3-438b-b0a8-ceb11717b896\">\n",
              "    <style>\n",
              "      .colab-df-generate {\n",
              "        background-color: #E8F0FE;\n",
              "        border: none;\n",
              "        border-radius: 50%;\n",
              "        cursor: pointer;\n",
              "        display: none;\n",
              "        fill: #1967D2;\n",
              "        height: 32px;\n",
              "        padding: 0 0 0 0;\n",
              "        width: 32px;\n",
              "      }\n",
              "\n",
              "      .colab-df-generate:hover {\n",
              "        background-color: #E2EBFA;\n",
              "        box-shadow: 0px 1px 2px rgba(60, 64, 67, 0.3), 0px 1px 3px 1px rgba(60, 64, 67, 0.15);\n",
              "        fill: #174EA6;\n",
              "      }\n",
              "\n",
              "      [theme=dark] .colab-df-generate {\n",
              "        background-color: #3B4455;\n",
              "        fill: #D2E3FC;\n",
              "      }\n",
              "\n",
              "      [theme=dark] .colab-df-generate:hover {\n",
              "        background-color: #434B5C;\n",
              "        box-shadow: 0px 1px 3px 1px rgba(0, 0, 0, 0.15);\n",
              "        filter: drop-shadow(0px 1px 2px rgba(0, 0, 0, 0.3));\n",
              "        fill: #FFFFFF;\n",
              "      }\n",
              "    </style>\n",
              "    <button class=\"colab-df-generate\" onclick=\"generateWithVariable('Dollars_Wine_list')\"\n",
              "            title=\"Generate code using this dataframe.\"\n",
              "            style=\"display:none;\">\n",
              "\n",
              "  <svg xmlns=\"http://www.w3.org/2000/svg\" height=\"24px\"viewBox=\"0 0 24 24\"\n",
              "       width=\"24px\">\n",
              "    <path d=\"M7,19H8.4L18.45,9,17,7.55,7,17.6ZM5,21V16.75L18.45,3.32a2,2,0,0,1,2.83,0l1.4,1.43a1.91,1.91,0,0,1,.58,1.4,1.91,1.91,0,0,1-.58,1.4L9.25,21ZM18.45,9,17,7.55Zm-12,3A5.31,5.31,0,0,0,4.9,8.1,5.31,5.31,0,0,0,1,6.5,5.31,5.31,0,0,0,4.9,4.9,5.31,5.31,0,0,0,6.5,1,5.31,5.31,0,0,0,8.1,4.9,5.31,5.31,0,0,0,12,6.5,5.46,5.46,0,0,0,6.5,12Z\"/>\n",
              "  </svg>\n",
              "    </button>\n",
              "    <script>\n",
              "      (() => {\n",
              "      const buttonEl =\n",
              "        document.querySelector('#id_fd7e3773-1ce3-438b-b0a8-ceb11717b896 button.colab-df-generate');\n",
              "      buttonEl.style.display =\n",
              "        google.colab.kernel.accessAllowed ? 'block' : 'none';\n",
              "\n",
              "      buttonEl.onclick = () => {\n",
              "        google.colab.notebook.generateWithVariable('Dollars_Wine_list');\n",
              "      }\n",
              "      })();\n",
              "    </script>\n",
              "  </div>\n",
              "\n",
              "    </div>\n",
              "  </div>\n"
            ],
            "application/vnd.google.colaboratory.intrinsic+json": {
              "type": "dataframe",
              "variable_name": "Dollars_Wine_list",
              "summary": "{\n  \"name\": \"Dollars_Wine_list\",\n  \"rows\": 19842,\n  \"fields\": [\n    {\n      \"column\": \"country\",\n      \"properties\": {\n        \"dtype\": \"category\",\n        \"num_unique_values\": 39,\n        \"samples\": [\n          \"Bosnia and Herzegovina\",\n          \"Slovakia\",\n          \"Germany\"\n        ],\n        \"semantic_type\": \"\",\n        \"description\": \"\"\n      }\n    },\n    {\n      \"column\": \"variety\",\n      \"properties\": {\n        \"dtype\": \"category\",\n        \"num_unique_values\": 434,\n        \"samples\": [\n          \"Carmen\\u00e8re-Cabernet Sauvignon\",\n          \"Roussanne\",\n          \"Monastrell-Syrah\"\n        ],\n        \"semantic_type\": \"\",\n        \"description\": \"\"\n      }\n    },\n    {\n      \"column\": \"price\",\n      \"properties\": {\n        \"dtype\": \"number\",\n        \"std\": 3.144425072166925,\n        \"min\": 4.0,\n        \"max\": 19.0,\n        \"num_unique_values\": 16,\n        \"samples\": [\n          15.0,\n          14.0,\n          19.0\n        ],\n        \"semantic_type\": \"\",\n        \"description\": \"\"\n      }\n    }\n  ]\n}"
            }
          },
          "metadata": {},
          "execution_count": 122
        }
      ],
      "source": [
        "# Hacer un dataframe con la variedad, el país y el precio para vinos con un costo menor a los $20 dolares\n",
        "\n",
        "Dollars_Wine_list = df_wine_reviews.loc[df_wine_reviews.price < 20, ['country','variety','price']]\n",
        "Dollars_Wine_list\n"
      ]
    },
    {
      "cell_type": "code",
      "execution_count": 142,
      "id": "10937ee8-a0a6-4164-8964-ead7b97acfd0",
      "metadata": {
        "colab": {
          "base_uri": "https://localhost:8080/"
        },
        "id": "10937ee8-a0a6-4164-8964-ead7b97acfd0",
        "outputId": "d2c53751-efd3-4343-baf8-04238fbf2e46"
      },
      "outputs": [
        {
          "output_type": "stream",
          "name": "stdout",
          "text": [
            "country\n",
            "Argentina         46\n",
            "Australia         58\n",
            "Austria           51\n",
            "Brazil             2\n",
            "Bulgaria           9\n",
            "Canada             8\n",
            "Chile            184\n",
            "Croatia            1\n",
            "England            5\n",
            "France          1001\n",
            "Germany           31\n",
            "Israel             5\n",
            "Italy              4\n",
            "New Zealand      281\n",
            "Portugal           7\n",
            "Romania            8\n",
            "Slovenia           3\n",
            "South Africa      21\n",
            "Spain              6\n",
            "Switzerland        2\n",
            "US              4918\n",
            "Uruguay            3\n",
            "dtype: int64\n"
          ]
        }
      ],
      "source": [
        "# ¿Cuantos vinos diferentes de la variedad *Pinot Noir* hay por cada país?\n",
        "Pinot_Noir_Wine_List = df_wine_reviews[df_wine_reviews['variety'] == 'Pinot Noir'].groupby('country').size()\n",
        "print(Pinot_Noir_Wine_List)"
      ]
    }
  ],
  "metadata": {
    "kernelspec": {
      "display_name": "Python 3 (ipykernel)",
      "language": "python",
      "name": "python3"
    },
    "language_info": {
      "codemirror_mode": {
        "name": "ipython",
        "version": 3
      },
      "file_extension": ".py",
      "mimetype": "text/x-python",
      "name": "python",
      "nbconvert_exporter": "python",
      "pygments_lexer": "ipython3",
      "version": "3.8.13"
    },
    "colab": {
      "provenance": []
    }
  },
  "nbformat": 4,
  "nbformat_minor": 5
}